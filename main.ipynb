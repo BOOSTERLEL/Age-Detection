{
 "cells": [
  {
   "cell_type": "markdown",
   "metadata": {},
   "source": [
    "## Import libs"
   ]
  },
  {
   "cell_type": "code",
   "execution_count": null,
   "metadata": {},
   "outputs": [],
   "source": [
    "# Import libs\n",
    "import pandas as pd\n",
    "import scipy\n",
    "import numpy as np\n",
    "import os\n",
    "import PIL\n",
    "import torch\n",
    "import matplotlib.pyplot as plt\n",
    "%matplotlib inline\n",
    "\n",
    "from datetime import datetime, timedelta\n",
    "from PIL import ImageEnhance\n",
    "from torchinfo import summary"
   ]
  },
  {
   "cell_type": "markdown",
   "metadata": {},
   "source": [
    "## Define functions"
   ]
  },
  {
   "cell_type": "code",
   "execution_count": null,
   "metadata": {},
   "outputs": [],
   "source": [
    "# This function converts metadata Matlab files to pandas dataframe\n",
    "def convert_mat_dataframe(mat_file, columns, dict_key):\n",
    "    mat = scipy.io.loadmat(mat_file)\n",
    "    mat_data = mat[dict_key][0][0]\n",
    "    df = pd.DataFrame()\n",
    "    for index, item in enumerate(mat_data):\n",
    "        if len(item[0]) == len(mat_data[0][0]): # Columns are only added to the dataframe if all the data is available\n",
    "            df[columns[index]] = item[0]\n",
    "    return(df)\n",
    "\n",
    "# This function converts the Matlab serial date number to pandas datetime\n",
    "def convert_date(Matlab_date):\n",
    "    try:\n",
    "        python_dt = datetime.fromordinal(int(Matlab_date)) + timedelta(days=Matlab_date%1) - timedelta(days = 366)\n",
    "    except OverflowError:\n",
    "        python_dt = None\n",
    "    return python_dt\n",
    "\n",
    "# This function converts the numpy arrays in the metadata Matlab files to its first element\n",
    "def select_first_element(array):\n",
    "    if len(array) > 0:\n",
    "        return array[0]\n",
    "    else:\n",
    "        return np.nan\n",
    "\n",
    "# This function calculates the age of the person the year the photo was taken\n",
    "def calculate_age(df):\n",
    "    age_list = []\n",
    "    counter = 0\n",
    "    for index, row in df.iterrows():\n",
    "        counter += 1\n",
    "        # Since data of photo is not known precisely, it is assumed to be July 1st\n",
    "        date_photo = datetime(year = row[\"year_photo_taken\"], month = 7, day = 1)\n",
    "        date_of_birth = row[\"dob_py\"]\n",
    "        if date_of_birth.month < date_photo.month:\n",
    "            age = int(date_photo.year - date_of_birth.year)\n",
    "        else:\n",
    "            age = int(date_photo.year - date_of_birth.year - 1)\n",
    "        age_list.append(age)\n",
    "    return age_list\n",
    "\n",
    "# This function clarifies the gender in the daraframe (1.0 is replaced by \"male\" and 0.0 is replaced by \"female\")\n",
    "def clarify_gender(gender):\n",
    "    if gender == 1.0:\n",
    "        gender = \"male\"\n",
    "    else:\n",
    "        gender = \"female\"\n",
    "    return gender\n",
    "\n",
    "# This function defines a more explicit file name for the image file\n",
    "def define_new_file_name(row):\n",
    "    return str(row.name)+\"_\"+row[\"name\"]+\"_\"+row[\"gender\"]+\"_\"+str(row[\"age\"])+\".jpg\"\n",
    "\n",
    "# This function defines the new training folder for the image depending on the selected feature\n",
    "def define_new_path(row, path, feature):\n",
    "    return path+row[feature]+\"/\"+str(row.name)+\"_\"+row[\"name\"]+\"_\"+row[\"gender\"]+\"_\"+str(row[\"age\"])+\".jpg\"\n",
    "\n",
    "# This function filters the dataframe to ensure that the range_age is evenly distributed (to avoid bias)\n",
    "def stratify_age_data(df, ranges_age = [10, 20, 30, 40, 50, 60, 70, 100], sample_size = 1000):\n",
    "    new_df = pd.DataFrame(columns = df.columns)\n",
    "    df = df[(df[\"age\"] >= ranges_age[0]) & (df[\"age\"] < ranges_age[-1])]\n",
    "    for index, age in enumerate(ranges_age[:-1]):\n",
    "        df_age = df[(df[\"age\"] > ranges_age[index]) & (df[\"age\"] < ranges_age[index +1])]\n",
    "        if len(df_age) > sample_size:\n",
    "            df_age = df_age.sample(n = sample_size)\n",
    "        new_df = new_df.append(df_age)\n",
    "    return new_df\n",
    "\n",
    "# This function verifies if the picture is in the verified_data folder\n",
    "def is_verified(row, folder, feature):\n",
    "    if os.path.exists(row[\"new_path\"]):\n",
    "        return 1\n",
    "    else:\n",
    "        return 0\n",
    "\n",
    "# This function calculates the number of pixels in each image\n",
    "def count_pixels(df):\n",
    "    nb_pixels_image_list = []\n",
    "    for index, row in df.iterrows():\n",
    "        with PIL.Image.open(row[\"new_path\"]) as img:\n",
    "            width, height = img.size\n",
    "            nb_pixels_image_list.append(width * height)\n",
    "    return nb_pixels_image_list\n",
    "\n",
    "# Definition of columns for metadata files\n",
    "columns_wiki = [\"dob\", \"year_photo_taken\", \"full_path\", \"gender\", \"name\", \"face_location\", \"face_score\", \"second_face_score\"]\n",
    "\n",
    "# Minimum and maximum age for age recognition (to remove absurd values such as centuries old portraits)\n",
    "min_age = 0\n",
    "max_age = 100"
   ]
  },
  {
   "cell_type": "markdown",
   "metadata": {},
   "source": [
    "## Preprocess data"
   ]
  },
  {
   "cell_type": "code",
   "execution_count": null,
   "metadata": {},
   "outputs": [],
   "source": [
    "# Converting metadata Matlab file to pandas dataframe\n",
    "wiki_metadata = convert_mat_dataframe(\"./data/wiki/wiki.mat\", columns_wiki, \"wiki\")\n",
    "\n",
    "# Converting date of birth from Matlab serial date number to pandas datetime\n",
    "wiki_metadata[\"dob_py\"] = wiki_metadata[\"dob\"].apply(convert_date)\n",
    "\n",
    "# Removing rows with invalid date of birth\n",
    "old_size_wiki = len(wiki_metadata)\n",
    "wiki_metadata = wiki_metadata[wiki_metadata[\"dob_py\"].notna()]\n",
    "new_size_wiki = len(wiki_metadata)\n",
    "\n",
    "# Removing missing values and unnecessary numpy array levels\n",
    "wiki_metadata[\"name\"] = wiki_metadata[\"name\"].apply(select_first_element)\n",
    "wiki_metadata[\"full_path\"] = wiki_metadata[\"full_path\"].apply(select_first_element)\n",
    "wiki_metadata[\"face_location\"] = wiki_metadata[\"face_location\"].apply(select_first_element)\n",
    "wiki_metadata = wiki_metadata.dropna(subset = wiki_metadata.drop([\"second_face_score\"], axis = 1).columns)\n",
    "\n",
    "# Calculating age when photo was taken\n",
    "wiki_metadata[\"age\"] = calculate_age(wiki_metadata)\n",
    "wiki_metadata = wiki_metadata[(wiki_metadata[\"age\"] >= min_age) & (wiki_metadata[\"age\"] < max_age)]"
   ]
  },
  {
   "cell_type": "code",
   "execution_count": null,
   "metadata": {},
   "outputs": [],
   "source": [
    "# Clarifying gender class\n",
    "wiki_metadata[\"gender\"] = wiki_metadata[\"gender\"].apply(clarify_gender)"
   ]
  },
  {
   "cell_type": "code",
   "execution_count": null,
   "metadata": {},
   "outputs": [],
   "source": [
    "# Adding new file name and paths\n",
    "wiki_metadata[\"new_file_name\"] = wiki_metadata.apply(define_new_file_name, axis = 1)\n",
    "wiki_metadata[\"new_path\"] = wiki_metadata.apply(define_new_path , args = (\"./data/verified_image/\", \"gender\", ), axis = 1)"
   ]
  },
  {
   "cell_type": "code",
   "execution_count": null,
   "metadata": {},
   "outputs": [],
   "source": [
    "# Checking if photo is in verified folder\n",
    "wiki_metadata[\"image_is_verified\"] = wiki_metadata.apply(is_verified, args = (\"./data/verified_image/\", \"gender\", ), axis = 1)\n",
    "wiki_metadata = wiki_metadata[wiki_metadata[\"image_is_verified\"] == 1]"
   ]
  },
  {
   "cell_type": "code",
   "execution_count": null,
   "metadata": {},
   "outputs": [],
   "source": [
    "# Counting number of pixels in each image\n",
    "wiki_metadata.loc[:, \"number_pixels\"] = count_pixels(wiki_metadata)"
   ]
  },
  {
   "cell_type": "markdown",
   "metadata": {},
   "source": [
    "## Load models"
   ]
  },
  {
   "cell_type": "code",
   "execution_count": null,
   "metadata": {},
   "outputs": [],
   "source": [
    "# Config device\n",
    "device = torch.device(\"cuda\") if torch.cuda.is_available() else torch.device(\"cpu\")"
   ]
  },
  {
   "cell_type": "code",
   "execution_count": null,
   "metadata": {},
   "outputs": [],
   "source": [
    "# EfficientNet\n",
    "# Link: https://github.com/NVIDIA/DeepLearningExamples/tree/master/PyTorch/Classification/ConvNets/efficientnet\n",
    "efficientnet_b0 = torch.hub.load('NVIDIA/DeepLearningExamples:torchhub', 'nvidia_efficientnet_b0', pretrained=True, trust_repo=True)\n",
    "efficientnet_b4 = torch.hub.load('NVIDIA/DeepLearningExamples:torchhub', 'nvidia_efficientnet_b4', pretrained=True, trust_repo=True)\n",
    "\n",
    "# ResNet50\n",
    "# Link: https://github.com/NVIDIA/DeepLearningExamples/tree/master/PyTorch/Classification/ConvNets/resnet50v1.5\n",
    "resnet_50 = torch.hub.load('NVIDIA/DeepLearningExamples:torchhub', 'nvidia_resnet50', pretrained=True, trust_repo=True)\n",
    "\n",
    "# ResNeXt101\n",
    "# Link: https://github.com/NVIDIA/DeepLearningExamples/tree/master/PyTorch/Classification/ConvNets/resnext101-32x4d#model-architecture\n",
    "resneXt_101 = torch.hub.load('NVIDIA/DeepLearningExamples:torchhub', 'nvidia_resneXt', pretrained=True, trust_repo=True)\n",
    "\n",
    "# Set mode and device\n",
    "models = [efficientnet_b0, efficientnet_b4, resnet_50, resneXt_101]\n",
    "for model in models:\n",
    "    model.train().to(device)"
   ]
  },
  {
   "cell_type": "code",
   "execution_count": null,
   "metadata": {},
   "outputs": [],
   "source": [
    "for model in models:\n",
    "    print(summary(model))"
   ]
  }
 ],
 "metadata": {
  "kernelspec": {
   "display_name": "Age-Detection",
   "language": "python",
   "name": "python3"
  },
  "language_info": {
   "codemirror_mode": {
    "name": "ipython",
    "version": 3
   },
   "file_extension": ".py",
   "mimetype": "text/x-python",
   "name": "python",
   "nbconvert_exporter": "python",
   "pygments_lexer": "ipython3",
   "version": "3.11.9"
  }
 },
 "nbformat": 4,
 "nbformat_minor": 2
}
